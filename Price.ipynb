{
 "cells": [
  {
   "cell_type": "markdown",
   "id": "52928986",
   "metadata": {},
   "source": [
    "# Finance Modelling"
   ]
  },
  {
   "cell_type": "code",
   "execution_count": 1,
   "id": "01106d10",
   "metadata": {},
   "outputs": [],
   "source": [
    "import pandas as pd\n",
    "import numpy as np\n",
    "import matplotlib.pyplot as plt\n",
    "import seaborn as sns"
   ]
  },
  {
   "cell_type": "markdown",
   "id": "2d41b9b7",
   "metadata": {},
   "source": [
    "## Recruitment companies yearly revenue per year"
   ]
  },
  {
   "cell_type": "code",
   "execution_count": 2,
   "id": "42d11404",
   "metadata": {},
   "outputs": [],
   "source": [
    "company_data = pd.read_csv(\"companies.csv\")"
   ]
  },
  {
   "cell_type": "code",
   "execution_count": 3,
   "id": "84bfb114",
   "metadata": {},
   "outputs": [
    {
     "data": {
      "text/html": [
       "<div>\n",
       "<style scoped>\n",
       "    .dataframe tbody tr th:only-of-type {\n",
       "        vertical-align: middle;\n",
       "    }\n",
       "\n",
       "    .dataframe tbody tr th {\n",
       "        vertical-align: top;\n",
       "    }\n",
       "\n",
       "    .dataframe thead th {\n",
       "        text-align: right;\n",
       "    }\n",
       "</style>\n",
       "<table border=\"1\" class=\"dataframe\">\n",
       "  <thead>\n",
       "    <tr style=\"text-align: right;\">\n",
       "      <th></th>\n",
       "      <th>Companies</th>\n",
       "      <th>Revenue_per_year(in Million $)</th>\n",
       "    </tr>\n",
       "  </thead>\n",
       "  <tbody>\n",
       "    <tr>\n",
       "      <th>0</th>\n",
       "      <td>Breezy HR</td>\n",
       "      <td>3.80</td>\n",
       "    </tr>\n",
       "    <tr>\n",
       "      <th>1</th>\n",
       "      <td>TestGorilla</td>\n",
       "      <td>1.59</td>\n",
       "    </tr>\n",
       "    <tr>\n",
       "      <th>2</th>\n",
       "      <td>HireVue</td>\n",
       "      <td>72.90</td>\n",
       "    </tr>\n",
       "    <tr>\n",
       "      <th>3</th>\n",
       "      <td>Workable</td>\n",
       "      <td>54.40</td>\n",
       "    </tr>\n",
       "    <tr>\n",
       "      <th>4</th>\n",
       "      <td>JazzHR</td>\n",
       "      <td>17.10</td>\n",
       "    </tr>\n",
       "  </tbody>\n",
       "</table>\n",
       "</div>"
      ],
      "text/plain": [
       "     Companies  Revenue_per_year(in Million $)\n",
       "0    Breezy HR                            3.80\n",
       "1  TestGorilla                            1.59\n",
       "2      HireVue                           72.90\n",
       "3     Workable                           54.40\n",
       "4       JazzHR                           17.10"
      ]
     },
     "execution_count": 3,
     "metadata": {},
     "output_type": "execute_result"
    }
   ],
   "source": [
    "company_data.head()"
   ]
  },
  {
   "cell_type": "code",
   "execution_count": 4,
   "id": "75f3610d",
   "metadata": {},
   "outputs": [
    {
     "data": {
      "text/html": [
       "<div>\n",
       "<style scoped>\n",
       "    .dataframe tbody tr th:only-of-type {\n",
       "        vertical-align: middle;\n",
       "    }\n",
       "\n",
       "    .dataframe tbody tr th {\n",
       "        vertical-align: top;\n",
       "    }\n",
       "\n",
       "    .dataframe thead th {\n",
       "        text-align: right;\n",
       "    }\n",
       "</style>\n",
       "<table border=\"1\" class=\"dataframe\">\n",
       "  <thead>\n",
       "    <tr style=\"text-align: right;\">\n",
       "      <th></th>\n",
       "      <th>Revenue_per_year(in Million $)</th>\n",
       "    </tr>\n",
       "  </thead>\n",
       "  <tbody>\n",
       "    <tr>\n",
       "      <th>count</th>\n",
       "      <td>20.000000</td>\n",
       "    </tr>\n",
       "    <tr>\n",
       "      <th>mean</th>\n",
       "      <td>35.899500</td>\n",
       "    </tr>\n",
       "    <tr>\n",
       "      <th>std</th>\n",
       "      <td>38.119553</td>\n",
       "    </tr>\n",
       "    <tr>\n",
       "      <th>min</th>\n",
       "      <td>1.400000</td>\n",
       "    </tr>\n",
       "    <tr>\n",
       "      <th>25%</th>\n",
       "      <td>4.100000</td>\n",
       "    </tr>\n",
       "    <tr>\n",
       "      <th>50%</th>\n",
       "      <td>17.950000</td>\n",
       "    </tr>\n",
       "    <tr>\n",
       "      <th>75%</th>\n",
       "      <td>56.850000</td>\n",
       "    </tr>\n",
       "    <tr>\n",
       "      <th>max</th>\n",
       "      <td>119.300000</td>\n",
       "    </tr>\n",
       "  </tbody>\n",
       "</table>\n",
       "</div>"
      ],
      "text/plain": [
       "       Revenue_per_year(in Million $)\n",
       "count                       20.000000\n",
       "mean                        35.899500\n",
       "std                         38.119553\n",
       "min                          1.400000\n",
       "25%                          4.100000\n",
       "50%                         17.950000\n",
       "75%                         56.850000\n",
       "max                        119.300000"
      ]
     },
     "execution_count": 4,
     "metadata": {},
     "output_type": "execute_result"
    }
   ],
   "source": [
    "company_data.describe()"
   ]
  },
  {
   "cell_type": "markdown",
   "id": "9614c8b0",
   "metadata": {},
   "source": [
    "## Plotting the graph for company yearly revenue and its average"
   ]
  },
  {
   "cell_type": "code",
   "execution_count": 5,
   "id": "057a93cb",
   "metadata": {
    "scrolled": true
   },
   "outputs": [
    {
     "data": {
      "image/png": "[encoded data removed]",
      "text/plain": [
       "<Figure size 432x288 with 1 Axes>"
      ]
     },
     "metadata": {
      "needs_background": "light"
     },
     "output_type": "display_data"
    }
   ],
   "source": [
    "fig, ax = plt.subplots(nrows=1,ncols=1)\n",
    "ax.barh(y=company_data['Companies'],width=company_data[\"Revenue_per_year(in Million $)\"], label='Revenue')\n",
    "ax.axvline(company_data[\"Revenue_per_year(in Million $)\"].mean(),color='Red', label='Mean_Revenue($ 35.9 M)')\n",
    "ax.set_title('Recruitment Company Revenue')\n",
    "ax.set_xlabel('Revenue per year (in Million $)')\n",
    "ax.legend();"
   ]
  },
  {
   "cell_type": "markdown",
   "id": "8dd2d076",
   "metadata": {},
   "source": [
    "## Software price for recruiting"
   ]
  },
  {
   "cell_type": "code",
   "execution_count": 6,
   "id": "3a97f918",
   "metadata": {},
   "outputs": [],
   "source": [
    "software_price = pd.read_csv(\"software_price.csv\")"
   ]
  },
  {
   "cell_type": "code",
   "execution_count": 7,
   "id": "e887982f",
   "metadata": {},
   "outputs": [
    {
     "data": {
      "text/html": [
       "<div>\n",
       "<style scoped>\n",
       "    .dataframe tbody tr th:only-of-type {\n",
       "        vertical-align: middle;\n",
       "    }\n",
       "\n",
       "    .dataframe tbody tr th {\n",
       "        vertical-align: top;\n",
       "    }\n",
       "\n",
       "    .dataframe thead th {\n",
       "        text-align: right;\n",
       "    }\n",
       "</style>\n",
       "<table border=\"1\" class=\"dataframe\">\n",
       "  <thead>\n",
       "    <tr style=\"text-align: right;\">\n",
       "      <th></th>\n",
       "      <th>Companies</th>\n",
       "      <th>Price_per_month(in $)</th>\n",
       "    </tr>\n",
       "  </thead>\n",
       "  <tbody>\n",
       "    <tr>\n",
       "      <th>0</th>\n",
       "      <td>Mantal</td>\n",
       "      <td>35</td>\n",
       "    </tr>\n",
       "    <tr>\n",
       "      <th>1</th>\n",
       "      <td>Monday.com</td>\n",
       "      <td>8</td>\n",
       "    </tr>\n",
       "    <tr>\n",
       "      <th>2</th>\n",
       "      <td>Breezy HR</td>\n",
       "      <td>399</td>\n",
       "    </tr>\n",
       "    <tr>\n",
       "      <th>3</th>\n",
       "      <td>Evalart</td>\n",
       "      <td>49</td>\n",
       "    </tr>\n",
       "    <tr>\n",
       "      <th>4</th>\n",
       "      <td>TestGorilla</td>\n",
       "      <td>25</td>\n",
       "    </tr>\n",
       "  </tbody>\n",
       "</table>\n",
       "</div>"
      ],
      "text/plain": [
       "     Companies  Price_per_month(in $)\n",
       "0       Mantal                     35\n",
       "1   Monday.com                      8\n",
       "2    Breezy HR                    399\n",
       "3      Evalart                     49\n",
       "4  TestGorilla                     25"
      ]
     },
     "execution_count": 7,
     "metadata": {},
     "output_type": "execute_result"
    }
   ],
   "source": [
    "software_price.head()"
   ]
  },
  {
   "cell_type": "code",
   "execution_count": 8,
   "id": "4ddbe33d",
   "metadata": {
    "scrolled": true
   },
   "outputs": [
    {
     "data": {
      "text/html": [
       "<div>\n",
       "<style scoped>\n",
       "    .dataframe tbody tr th:only-of-type {\n",
       "        vertical-align: middle;\n",
       "    }\n",
       "\n",
       "    .dataframe tbody tr th {\n",
       "        vertical-align: top;\n",
       "    }\n",
       "\n",
       "    .dataframe thead th {\n",
       "        text-align: right;\n",
       "    }\n",
       "</style>\n",
       "<table border=\"1\" class=\"dataframe\">\n",
       "  <thead>\n",
       "    <tr style=\"text-align: right;\">\n",
       "      <th></th>\n",
       "      <th>Price_per_month(in $)</th>\n",
       "    </tr>\n",
       "  </thead>\n",
       "  <tbody>\n",
       "    <tr>\n",
       "      <th>count</th>\n",
       "      <td>18.000000</td>\n",
       "    </tr>\n",
       "    <tr>\n",
       "      <th>mean</th>\n",
       "      <td>154.111111</td>\n",
       "    </tr>\n",
       "    <tr>\n",
       "      <th>std</th>\n",
       "      <td>166.845081</td>\n",
       "    </tr>\n",
       "    <tr>\n",
       "      <th>min</th>\n",
       "      <td>8.000000</td>\n",
       "    </tr>\n",
       "    <tr>\n",
       "      <th>25%</th>\n",
       "      <td>38.500000</td>\n",
       "    </tr>\n",
       "    <tr>\n",
       "      <th>50%</th>\n",
       "      <td>79.000000</td>\n",
       "    </tr>\n",
       "    <tr>\n",
       "      <th>75%</th>\n",
       "      <td>256.000000</td>\n",
       "    </tr>\n",
       "    <tr>\n",
       "      <th>max</th>\n",
       "      <td>500.000000</td>\n",
       "    </tr>\n",
       "  </tbody>\n",
       "</table>\n",
       "</div>"
      ],
      "text/plain": [
       "       Price_per_month(in $)\n",
       "count              18.000000\n",
       "mean              154.111111\n",
       "std               166.845081\n",
       "min                 8.000000\n",
       "25%                38.500000\n",
       "50%                79.000000\n",
       "75%               256.000000\n",
       "max               500.000000"
      ]
     },
     "execution_count": 8,
     "metadata": {},
     "output_type": "execute_result"
    }
   ],
   "source": [
    "software_price.describe()"
   ]
  },
  {
   "cell_type": "markdown",
   "id": "babd8e32",
   "metadata": {},
   "source": [
    "## Software price and their average price"
   ]
  },
  {
   "cell_type": "code",
   "execution_count": 9,
   "id": "db8be57f",
   "metadata": {},
   "outputs": [
    {
     "data": {
      "image/png": "[encoded data removed]",
      "text/plain": [
       "<Figure size 432x288 with 1 Axes>"
      ]
     },
     "metadata": {
      "needs_background": "light"
     },
     "output_type": "display_data"
    }
   ],
   "source": [
    "fig, ax = plt.subplots(nrows=1,ncols=1)\n",
    "ax.barh(y=software_price['Companies'],width=software_price[\"Price_per_month(in $)\"], label='Price')\n",
    "ax.axvline(software_price[\"Price_per_month(in $)\"].mean(),color='Red', label='Mean_Price($ 154)')\n",
    "ax.set_title('Recruitment Software Price per Month')\n",
    "ax.set_xlabel('Software Price per month (in $)')\n",
    "ax.legend();"
   ]
  },
  {
   "cell_type": "markdown",
   "id": "6ada2eaf",
   "metadata": {},
   "source": [
    "# Equation Graph"
   ]
  },
  {
   "cell_type": "markdown",
   "id": "3e82d942",
   "metadata": {},
   "source": [
    "### Sample data"
   ]
  },
  {
   "cell_type": "code",
   "execution_count": 10,
   "id": "c97cc3e1",
   "metadata": {},
   "outputs": [],
   "source": [
    "x = 50 # price of the product\n",
    "m = 12 # number of months\n",
    "n = np.array([15,2,16,40,22,67,4,17,56,21,100,125,62,98]) # number of resumes that are over 100\n",
    "c = 20 # production cost but it may vary"
   ]
  },
  {
   "cell_type": "markdown",
   "id": "5f41448b",
   "metadata": {},
   "source": [
    "### Equation"
   ]
  },
  {
   "cell_type": "code",
   "execution_count": 11,
   "id": "9d7805d1",
   "metadata": {},
   "outputs": [],
   "source": [
    "# if a company has less than 100 resumes then the equation\n",
    "y1 = x * m - c\n",
    "\n",
    "# if a company has more than 100 resumes we can add 10 dollars for extra 15 resumes then the equation\n",
    "y2 = (x * m) + (n/15 * (10)) - c"
   ]
  },
  {
   "cell_type": "markdown",
   "id": "57f56406",
   "metadata": {},
   "source": [
    "### Graph"
   ]
  },
  {
   "cell_type": "code",
   "execution_count": 12,
   "id": "de17c57b",
   "metadata": {},
   "outputs": [
    {
     "data": {
      "image/png": "[encoded data removed]",
      "text/plain": [
       "<Figure size 432x288 with 1 Axes>"
      ]
     },
     "metadata": {
      "needs_background": "light"
     },
     "output_type": "display_data"
    }
   ],
   "source": [
    "# plotting aganist number of resume and profit\n",
    "plt.plot(n,y2, label='Over 100 resume Profit')\n",
    "plt.xlabel('Number extra resume')\n",
    "plt.ylabel('Profit')\n",
    "plt.axhline(y1, color='Red', label='Monthy Profit')\n",
    "plt.title(\"Profit Graph\")\n",
    "plt.xlim(5)\n",
    "plt.ylim(550)\n",
    "plt.legend()\n",
    "plt.show()"
   ]
  }
 ],
 "metadata": {
  "kernelspec": {
   "display_name": "Python 3 (ipykernel)",
   "language": "python",
   "name": "python3"
  },
  "language_info": {
   "codemirror_mode": {
    "name": "ipython",
    "version": 3
   },
   "file_extension": ".py",
   "mimetype": "text/x-python",
   "name": "python",
   "nbconvert_exporter": "python",
   "pygments_lexer": "ipython3",
   "version": "3.10.5"
  }
 },
 "nbformat": 4,
 "nbformat_minor": 5
}
